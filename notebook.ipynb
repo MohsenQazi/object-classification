{
 "cells": [
  {
   "cell_type": "code",
   "execution_count": 1,
   "metadata": {},
   "outputs": [],
   "source": [
    "import numpy as np\n",
    "import tensorflow as tf\n",
    "import random as rn\n",
    "import os\n",
    "os.environ['PYTHONHASHSEED'] = '0'\n",
    "np.random.seed(42)\n",
    "rn.seed(12345)\n",
    "session_conf = tf.compat.v1.ConfigProto(intra_op_parallelism_threads=1, inter_op_parallelism_threads=1)\n",
    "import tensorflow.python.keras.backend as K\n",
    "tf.random.set_seed(1234)\n",
    "sess = tf.compat.v1.Session(graph=tf.compat.v1.get_default_graph(), config=session_conf)\n",
    "K.set_session(sess)"
   ]
  },
  {
   "cell_type": "code",
   "execution_count": null,
   "metadata": {},
   "outputs": [],
   "source": [
    "%matplotlib inline\n",
    "\n",
    "import pylab as plt\n",
    "import pandas as pd\n",
    "from keras.models import Sequential\n",
    "from keras.layers import Dense, Activation, Dropout\n",
    "from sklearn.metrics import confusion_matrix"
   ]
  },
  {
   "cell_type": "code",
   "execution_count": 2,
   "metadata": {},
   "outputs": [],
   "source": [
    "def plot_confusion_matrix(y_true, y_pred, classes,\n",
    "                          normalize,\n",
    "                          cmap=plt.cm.Blues):\n",
    "\n",
    "    cm = confusion_matrix(y_true, y_pred)\n",
    "    if normalize:\n",
    "        cm = cm.astype('float') / cm.sum(axis=1)[:, np.newaxis]\n",
    "\n",
    "    \n",
    "    fig, ax = plt.subplots()\n",
    "    im = ax.imshow(cm, interpolation='nearest', cmap=cmap)\n",
    "    ax.figure.colorbar(im, ax=ax)\n",
    "    ax.set(xticks=np.arange(cm.shape[1]),\n",
    "           yticks=np.arange(cm.shape[0]),\n",
    "           xticklabels=classes, yticklabels=classes,\n",
    "           ylabel='True label',\n",
    "           xlabel='Predicted label')\n",
    "\n",
    "    plt.setp(ax.get_xticklabels(), rotation=45, ha=\"right\",\n",
    "             rotation_mode=\"anchor\")\n",
    "\n",
    "    fmt = '.2f' if normalize else 'd'\n",
    "    thresh = cm.max() / 2.\n",
    "    for i in range(cm.shape[0]):\n",
    "        for j in range(cm.shape[1]):\n",
    "            ax.text(j, i, format(cm[i, j], fmt),\n",
    "                    ha=\"center\", va=\"center\",\n",
    "                    color=\"white\" if cm[i, j] > thresh else \"black\")\n",
    "    fig.tight_layout()\n",
    "    return ax"
   ]
  },
  {
   "cell_type": "code",
   "execution_count": 3,
   "metadata": {},
   "outputs": [],
   "source": [
    "nG, nS, nQ= 40000, 25000, 25000
    "x_tr1= pd.concat([pd.read_csv('{}[0-15].csv'.format(i))[:j] for i,j in {'GALAXY':nG,'STAR':nS,'QSO':nQ}.items()])\n",
    "x_tr= x_tr1.sample(frac=1).reset_index(drop=True)\n",
    "\n",
    "frames1= [pd.read_csv('{}[0-15].csv'.format(i))[j:] for i,j in {'GALAXY':nG,'STAR':nS,'QSO':nQ}.items()]\n",
    "frames2= [pd.read_csv('{}[15-24].csv'.format(i)) for i in ['GALAXY','STAR','QSO']]\n",
    "\n",
    "x_te1= pd.concat([frames2[0],frames2[1],frames2[2],frames1[0],frames1[1],frames1[2]])\n",
    "x_te= x_te1.sample(frac=1).reset_index(drop=True)"
   ]
  },
  {
   "cell_type": "code",
   "execution_count": 4,
   "metadata": {},
   "outputs": [],
   "source": [
    "y_tr= []\n",
    "for i in range(len(x_tr)):\n",
    "    c= x_tr['class'][i]\n",
    "    y_tr.append([c=='STAR',c=='GALAXY',c=='QSO'])\n",
    "y_tr= np.array(y_tr).astype(int)\n",
    "\n",
    "x_tr= np.array(x_tr.drop(columns=['class']))\n",
    "\n",
    "y_te= []\n",
    "for i in range(len(x_te)):\n",
    "    c= x_te['class'][i]\n",
    "    y_te.append([c=='STAR',c=='GALAXY',c=='QSO'])\n",
    "y_te= np.array(y_te).astype(int)\n",
    "\n",
    "x_te= np.array(x_te.drop(columns=['class']))"
   ]
  },
  {
   "cell_type": "code",
   "execution_count": 5,
   "metadata": {},
   "outputs": [
    {
     "name": "stdout",
     "output_type": "stream",
     "text": [
      "293047/293047 [==============================] - 4s 14us/step\n"
     ]
    },
    {
     "data": {
      "text/plain": [
       "[0.09383800896011024, 0.9733216762542725]"
      ]
     },
     "execution_count": 5,
     "metadata": {},
     "output_type": "execute_result"
    }
   ],
   "source": [
    "import keras\n",
    "model = Sequential()\n",
    "model.add(Dense(64, activation='relu', input_shape=(x_tr.shape[1],)))\n",
    "               kernel_initializer=keras.initializers.RandomNormal(seed=1),\n",
    "               bias_initializer=keras.initializers.Constant(value=0.1)))\n",
    "model.add(Dense(32, activation='relu'))\n",
    "model.add(Dense(32, activation='relu'))\n",
    "model.add(Dense(32, activation='relu'))\n",
    "model.add(Dense(32, activation='relu'))\n",
    "model.add(Dense(32, activation='relu'))\n",
    "model.add(Dense(16, activation='relu'))\n",
    "model.add(Dropout(0.4))\n",
    "model.add(Dense(3, activation='sigmoid'))\n",
    "\n",
    "model.compile(loss='categorical_crossentropy',\n",
    "              optimizer='adam',\n",
    "              metrics=['accuracy'])\n",
    "\n",
    "model.fit(x_tr,y_tr,epochs=20,batch_size=300,verbose=0,shuffle=False)\n",
    "\n",
    "model.evaluate(x_te,y_te)"
   ]
  },
  {
   "cell_type": "code",
   "execution_count": 6,
   "metadata": {},
   "outputs": [
    {
     "data": {
      "text/plain": [
       "<matplotlib.axes._subplots.AxesSubplot at 0x7f41216d6dd8>"
      ]
     },
     "execution_count": 6,
     "metadata": {},
     "output_type": "execute_result"
    },
    {
     "data": {
      "image/png": "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\n",
      "text/plain": [
       "<Figure size 432x288 with 2 Axes>"
      ]
     },
     "metadata": {
      "needs_background": "light"
     },
     "output_type": "display_data"
    }
   ],
   "source": [
    "y_pred = model.predict(x_te)\n",
    "y_true = y_te.argmax(axis=1)\n",
    "y_pred = y_pred.argmax(axis=1)\n",
    "\n",
    "plot_confusion_matrix(y_true, y_pred, ['STAR','GALAXY','QSO'],\n",
    "                      1)"
   ]
  }
 ],
 "metadata": {
  "kernelspec": {
   "display_name": "Python 3",
   "language": "python",
   "name": "python3"
  },
  "language_info": {
   "codemirror_mode": {
    "name": "ipython",
    "version": 3
   },
   "file_extension": ".py",
   "mimetype": "text/x-python",
   "name": "python",
   "nbconvert_exporter": "python",
   "pygments_lexer": "ipython3",
   "version": "3.7.3"
  }
 },
 "nbformat": 4,
 "nbformat_minor": 2
}
